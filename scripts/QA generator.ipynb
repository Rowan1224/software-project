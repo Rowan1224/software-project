{
 "cells": [
  {
   "cell_type": "code",
   "execution_count": 1,
   "id": "8c721876",
   "metadata": {},
   "outputs": [],
   "source": [
    "# !python -m nltk.downloader punkt"
   ]
  },
  {
   "cell_type": "code",
   "execution_count": 2,
   "id": "666cf0a0",
   "metadata": {},
   "outputs": [],
   "source": [
    "# !git clone https://github.com/patil-suraj/question_generation.git"
   ]
  },
  {
   "cell_type": "code",
   "execution_count": 1,
   "id": "2ed33eca",
   "metadata": {},
   "outputs": [],
   "source": [
    "import os\n",
    "import pandas as pd\n",
    "from os import listdir\n",
    "from os.path import isfile, join\n",
    "import re"
   ]
  },
  {
   "cell_type": "code",
   "execution_count": 2,
   "id": "3587d566",
   "metadata": {},
   "outputs": [
    {
     "name": "stdout",
     "output_type": "stream",
     "text": [
      "/mnt/d/MASTER2_NLP/Software project/env\n"
     ]
    }
   ],
   "source": [
    "print(os.getcwd())"
   ]
  },
  {
   "cell_type": "code",
   "execution_count": 3,
   "id": "2df02bca",
   "metadata": {},
   "outputs": [
    {
     "name": "stdout",
     "output_type": "stream",
     "text": [
      "/mnt/d/MASTER2_NLP/Software project\n"
     ]
    }
   ],
   "source": [
    "os.chdir(\"../\")\n",
    "print(os.getcwd())"
   ]
  },
  {
   "cell_type": "code",
   "execution_count": 4,
   "id": "4f6f39a8",
   "metadata": {},
   "outputs": [
    {
     "name": "stderr",
     "output_type": "stream",
     "text": [
      "/mnt/d/MASTER2_NLP/Software project/env/lib/python3.8/site-packages/tqdm/auto.py:22: TqdmWarning: IProgress not found. Please update jupyter and ipywidgets. See https://ipywidgets.readthedocs.io/en/stable/user_install.html\n",
      "  from .autonotebook import tqdm as notebook_tqdm\n"
     ]
    }
   ],
   "source": [
    "from pipeline_fr import pipeline_fr"
   ]
  },
  {
   "cell_type": "code",
   "execution_count": 5,
   "id": "c1db5a40",
   "metadata": {},
   "outputs": [],
   "source": [
    "data_dir = \"Datasets/CASS-dataset/Freemium_cass_global_20220417-170000/cass/global/civile\""
   ]
  },
  {
   "cell_type": "markdown",
   "id": "cab910e7",
   "metadata": {},
   "source": [
    "# Run this cell and the next one just one time to generate the 'cases_after_2000.txt' file\n",
    "\n",
    "I uploaded this file on git so normally you should find it there\n",
    "\n",
    "Filter and select just the cases after year 2000 "
   ]
  },
  {
   "cell_type": "code",
   "execution_count": 6,
   "id": "3fb64aab",
   "metadata": {},
   "outputs": [
    {
     "data": {
      "text/plain": [
       "'\\nfiles_after_2000 = []\\ni=0\\nfor path, _, files in os.walk(data_dir):\\n    for name in files:\\n        if i<1000:\\n            with open(os.path.join(path, name), \\'r\\', encoding=\\'utf-8\\', errors=\\'ignore\\') as myfile:\\n                full_text = myfile.read()\\n                date = None\\n                \\n                if re.search(\\'<META_JURI>.*</META_JURI>\\', full_text, re.DOTALL):\\n                    \\n                    search = re.search(\\'(?<=<DATE_DEC>).*?(?=</DATE_DEC>)\\', full_text, re.DOTALL)\\n                    date = search.group(0)\\n                    y, m, d = date.split(\"-\")\\n                    if (int(y) >= 2000):\\n                        files_after_2000.append(name)\\n                        \\n'"
      ]
     },
     "execution_count": 6,
     "metadata": {},
     "output_type": "execute_result"
    }
   ],
   "source": [
    "import re\n",
    "\"\"\"\n",
    "files_after_2000 = []\n",
    "i=0\n",
    "for path, _, files in os.walk(data_dir):\n",
    "    for name in files:\n",
    "        if i<1000:\n",
    "            with open(os.path.join(path, name), 'r', encoding='utf-8', errors='ignore') as myfile:\n",
    "                full_text = myfile.read()\n",
    "                date = None\n",
    "                \n",
    "                if re.search('<META_JURI>.*</META_JURI>', full_text, re.DOTALL):\n",
    "                    \n",
    "                    search = re.search('(?<=<DATE_DEC>).*?(?=</DATE_DEC>)', full_text, re.DOTALL)\n",
    "                    date = search.group(0)\n",
    "                    y, m, d = date.split(\"-\")\n",
    "                    if (int(y) >= 2000):\n",
    "                        files_after_2000.append(name)\n",
    "                        \n",
    "\"\"\"\n"
   ]
  },
  {
   "cell_type": "markdown",
   "id": "b9e0b7ef",
   "metadata": {},
   "source": [
    "Write all these file names in a .txt file"
   ]
  },
  {
   "cell_type": "code",
   "execution_count": 7,
   "id": "90e8a908",
   "metadata": {},
   "outputs": [
    {
     "data": {
      "text/plain": [
       "'\\ntext_file = open(\"cases_after_2000.txt\", \"wt\")\\nfor case in files_after_2000:\\n    case = case.replace(\".xml\", \"\")\\n    text_file.write(case)\\n    text_file.write(\"\\n\")\\n    \\ntext_file.close()\\n\\n'"
      ]
     },
     "execution_count": 7,
     "metadata": {},
     "output_type": "execute_result"
    }
   ],
   "source": [
    "\"\"\"\n",
    "text_file = open(\"cases_after_2000.txt\", \"wt\")\n",
    "for case in files_after_2000:\n",
    "    case = case.replace(\".xml\", \"\")\n",
    "    text_file.write(case)\n",
    "    text_file.write(\"\\n\")\n",
    "    \n",
    "text_file.close()\n",
    "\n",
    "\"\"\""
   ]
  },
  {
   "cell_type": "markdown",
   "id": "24a95a8c",
   "metadata": {},
   "source": [
    "Dont't forget to change the path if needed:"
   ]
  },
  {
   "cell_type": "code",
   "execution_count": 8,
   "id": "50b36abb",
   "metadata": {},
   "outputs": [],
   "source": [
    "path_cases_file = open(\"cases_after_2000.txt\", \"r\")\n",
    "cases_file = path_cases_file.read()\n",
    "str_files = cases_file.split(\"\\n\")"
   ]
  },
  {
   "cell_type": "code",
   "execution_count": 9,
   "id": "9716a67c",
   "metadata": {},
   "outputs": [
    {
     "name": "stdout",
     "output_type": "stream",
     "text": [
      "17314\n"
     ]
    }
   ],
   "source": [
    "print(len(str_files))"
   ]
  },
  {
   "cell_type": "code",
   "execution_count": 10,
   "id": "39219805",
   "metadata": {},
   "outputs": [
    {
     "data": {
      "text/html": [
       "<div>\n",
       "<style scoped>\n",
       "    .dataframe tbody tr th:only-of-type {\n",
       "        vertical-align: middle;\n",
       "    }\n",
       "\n",
       "    .dataframe tbody tr th {\n",
       "        vertical-align: top;\n",
       "    }\n",
       "\n",
       "    .dataframe thead th {\n",
       "        text-align: right;\n",
       "    }\n",
       "</style>\n",
       "<table border=\"1\" class=\"dataframe\">\n",
       "  <thead>\n",
       "    <tr style=\"text-align: right;\">\n",
       "      <th></th>\n",
       "      <th>id_file</th>\n",
       "      <th>decision</th>\n",
       "      <th>resume</th>\n",
       "    </tr>\n",
       "  </thead>\n",
       "  <tbody>\n",
       "  </tbody>\n",
       "</table>\n",
       "</div>"
      ],
      "text/plain": [
       "Empty DataFrame\n",
       "Columns: [id_file, decision, resume]\n",
       "Index: []"
      ]
     },
     "execution_count": 10,
     "metadata": {},
     "output_type": "execute_result"
    }
   ],
   "source": [
    "df = pd.DataFrame(columns = [\"id_file\", \"decision\", \"resume\"])\n",
    "df"
   ]
  },
  {
   "cell_type": "code",
   "execution_count": 11,
   "id": "ca20b5c2",
   "metadata": {},
   "outputs": [],
   "source": [
    "def check_file(file):\n",
    "    file = file.replace(\".story\", \"\")\n",
    "    if file in str_files:\n",
    "        return 1\n",
    "    \n",
    "    return 0"
   ]
  },
  {
   "cell_type": "markdown",
   "id": "f1964d4f",
   "metadata": {},
   "source": [
    "Check if a .story file is after year 2000,  read it and save the content in a vector"
   ]
  },
  {
   "cell_type": "code",
   "execution_count": 12,
   "id": "4b8c3c6e",
   "metadata": {},
   "outputs": [],
   "source": [
    "path = \"env/cleaned_files_civile\"\n",
    "content_file = []\n",
    "file_content_assoc={}\n",
    "for file in os.listdir(path):\n",
    "    if check_file(file):\n",
    "        with open(os.path.join(path, file), \"r\") as f:\n",
    "            content = f.read()\n",
    "            content_file.append(content)\n",
    "            file_content_assoc[file] = content\n",
    "        "
   ]
  },
  {
   "cell_type": "markdown",
   "id": "3d495d75",
   "metadata": {},
   "source": [
    "Apparently in the \"cleaned_files_civile\" directory there were less files after year 2000:\n",
    "- in the original dataset: 17314\n",
    "- from the generate .story files: 16256\n",
    "\n",
    "Maybe there was a bug during their generation and some of them were lost. It is not such a problem, it is just informative"
   ]
  },
  {
   "cell_type": "code",
   "execution_count": 13,
   "id": "7379afd8",
   "metadata": {},
   "outputs": [
    {
     "data": {
      "text/plain": [
       "16256"
      ]
     },
     "execution_count": 13,
     "metadata": {},
     "output_type": "execute_result"
    }
   ],
   "source": [
    "len(file_content_assoc)"
   ]
  },
  {
   "cell_type": "markdown",
   "id": "ac9e045c",
   "metadata": {},
   "source": [
    "Split each file by \"@highlight\" and save the decision and resume in differet variables"
   ]
  },
  {
   "cell_type": "code",
   "execution_count": 15,
   "id": "be91e974",
   "metadata": {},
   "outputs": [],
   "source": [
    "decision, resume = [], []\n",
    "for f in content_file:\n",
    "    d, r = f.split(\"@highlight\")\n",
    "    decision.append(d)\n",
    "    resume.append(r)"
   ]
  },
  {
   "cell_type": "markdown",
   "id": "f0b54062",
   "metadata": {},
   "source": [
    "Delete special characters from decision and resume (for example \"\\n\")"
   ]
  },
  {
   "cell_type": "code",
   "execution_count": 36,
   "id": "0cdecb01",
   "metadata": {},
   "outputs": [],
   "source": [
    "def delete_special_characters(d):\n",
    "    new_d = []\n",
    "    for item in d:\n",
    "        item = item.replace(\"\\n\", \"\")\n",
    "        item = item.replace(\"' \", \"'\")\n",
    "        item = item.replace('\\\\' , '' )\n",
    "        #item = item.replace('. ' , '.' )\n",
    "        new_d.append(item)\n",
    "    return new_d"
   ]
  },
  {
   "cell_type": "code",
   "execution_count": 37,
   "id": "c5ced9c7",
   "metadata": {},
   "outputs": [
    {
     "name": "stdout",
     "output_type": "stream",
     "text": [
      "16256 16256\n"
     ]
    }
   ],
   "source": [
    "decision = delete_special_characters(decision)\n",
    "resume = delete_special_characters(resume)\n",
    "print(len(decision), len(resume))"
   ]
  },
  {
   "cell_type": "code",
   "execution_count": 38,
   "id": "5083cc79",
   "metadata": {},
   "outputs": [
    {
     "data": {
      "text/html": [
       "<div>\n",
       "<style scoped>\n",
       "    .dataframe tbody tr th:only-of-type {\n",
       "        vertical-align: middle;\n",
       "    }\n",
       "\n",
       "    .dataframe tbody tr th {\n",
       "        vertical-align: top;\n",
       "    }\n",
       "\n",
       "    .dataframe thead th {\n",
       "        text-align: right;\n",
       "    }\n",
       "</style>\n",
       "<table border=\"1\" class=\"dataframe\">\n",
       "  <thead>\n",
       "    <tr style=\"text-align: right;\">\n",
       "      <th></th>\n",
       "      <th>id_file</th>\n",
       "      <th>decision</th>\n",
       "      <th>resume</th>\n",
       "    </tr>\n",
       "  </thead>\n",
       "  <tbody>\n",
       "    <tr>\n",
       "      <th>0</th>\n",
       "      <td>JURITEXT000007040187.story</td>\n",
       "      <td>donne acte a l'office public d'amenagement et ...</td>\n",
       "      <td>les epoux demeurent cotitulaires du bail jusqu...</td>\n",
       "    </tr>\n",
       "    <tr>\n",
       "      <th>1</th>\n",
       "      <td>JURITEXT000007040188.story</td>\n",
       "      <td>sur le moyen unique :attendu , selon l'arret a...</td>\n",
       "      <td>la cour d'appel qui releve qu'une meme lettre ...</td>\n",
       "    </tr>\n",
       "    <tr>\n",
       "      <th>2</th>\n",
       "      <td>JURITEXT000007040210.story</td>\n",
       "      <td>sur le moyen unique :attendu que par acte du 2...</td>\n",
       "      <td>l'article l. 121 - 10 du code des assurances s...</td>\n",
       "    </tr>\n",
       "    <tr>\n",
       "      <th>3</th>\n",
       "      <td>JURITEXT000007040335.story</td>\n",
       "      <td>arret n 2sur le moyen unique :vu les articles ...</td>\n",
       "      <td>le delai d'un mois imparti pour elever une con...</td>\n",
       "    </tr>\n",
       "    <tr>\n",
       "      <th>4</th>\n",
       "      <td>JURITEXT000007040336.story</td>\n",
       "      <td>attendu , selon l'arret confirmatif attaque , ...</td>\n",
       "      <td>1ne constitue pas une contestation de la saisi...</td>\n",
       "    </tr>\n",
       "    <tr>\n",
       "      <th>...</th>\n",
       "      <td>...</td>\n",
       "      <td>...</td>\n",
       "      <td>...</td>\n",
       "    </tr>\n",
       "    <tr>\n",
       "      <th>16251</th>\n",
       "      <td>JURITEXT000045470245.story</td>\n",
       "      <td>la cour de cassation , deuxieme chambre civile...</td>\n",
       "      <td>n'est pas une clause penale au sens de l'artic...</td>\n",
       "    </tr>\n",
       "    <tr>\n",
       "      <th>16252</th>\n",
       "      <td>JURITEXT000045470247.story</td>\n",
       "      <td>la cour de cassation , deuxieme chambre civile...</td>\n",
       "      <td>c'est dans l'exercice de son pouvoir souverain...</td>\n",
       "    </tr>\n",
       "    <tr>\n",
       "      <th>16253</th>\n",
       "      <td>JURITEXT000045470249.story</td>\n",
       "      <td>la cour de cassation , deuxieme chambre civile...</td>\n",
       "      <td>si un accident de la circulation trouve sa cau...</td>\n",
       "    </tr>\n",
       "    <tr>\n",
       "      <th>16254</th>\n",
       "      <td>JURITEXT000045545615.story</td>\n",
       "      <td>la cour de cassation , deuxieme chambre civile...</td>\n",
       "      <td>il resulte de l'article 1er de la loi du 5 jui...</td>\n",
       "    </tr>\n",
       "    <tr>\n",
       "      <th>16255</th>\n",
       "      <td>JURITEXT000045545618.story</td>\n",
       "      <td>la cour de cassation , deuxieme chambre civile...</td>\n",
       "      <td>il resulte de l'article 1242 du code civil que...</td>\n",
       "    </tr>\n",
       "  </tbody>\n",
       "</table>\n",
       "<p>16256 rows × 3 columns</p>\n",
       "</div>"
      ],
      "text/plain": [
       "                          id_file  \\\n",
       "0      JURITEXT000007040187.story   \n",
       "1      JURITEXT000007040188.story   \n",
       "2      JURITEXT000007040210.story   \n",
       "3      JURITEXT000007040335.story   \n",
       "4      JURITEXT000007040336.story   \n",
       "...                           ...   \n",
       "16251  JURITEXT000045470245.story   \n",
       "16252  JURITEXT000045470247.story   \n",
       "16253  JURITEXT000045470249.story   \n",
       "16254  JURITEXT000045545615.story   \n",
       "16255  JURITEXT000045545618.story   \n",
       "\n",
       "                                                decision  \\\n",
       "0      donne acte a l'office public d'amenagement et ...   \n",
       "1      sur le moyen unique :attendu , selon l'arret a...   \n",
       "2      sur le moyen unique :attendu que par acte du 2...   \n",
       "3      arret n 2sur le moyen unique :vu les articles ...   \n",
       "4      attendu , selon l'arret confirmatif attaque , ...   \n",
       "...                                                  ...   \n",
       "16251  la cour de cassation , deuxieme chambre civile...   \n",
       "16252  la cour de cassation , deuxieme chambre civile...   \n",
       "16253  la cour de cassation , deuxieme chambre civile...   \n",
       "16254  la cour de cassation , deuxieme chambre civile...   \n",
       "16255  la cour de cassation , deuxieme chambre civile...   \n",
       "\n",
       "                                                  resume  \n",
       "0      les epoux demeurent cotitulaires du bail jusqu...  \n",
       "1      la cour d'appel qui releve qu'une meme lettre ...  \n",
       "2      l'article l. 121 - 10 du code des assurances s...  \n",
       "3      le delai d'un mois imparti pour elever une con...  \n",
       "4      1ne constitue pas une contestation de la saisi...  \n",
       "...                                                  ...  \n",
       "16251  n'est pas une clause penale au sens de l'artic...  \n",
       "16252  c'est dans l'exercice de son pouvoir souverain...  \n",
       "16253  si un accident de la circulation trouve sa cau...  \n",
       "16254  il resulte de l'article 1er de la loi du 5 jui...  \n",
       "16255  il resulte de l'article 1242 du code civil que...  \n",
       "\n",
       "[16256 rows x 3 columns]"
      ]
     },
     "execution_count": 38,
     "metadata": {},
     "output_type": "execute_result"
    }
   ],
   "source": [
    "df_files = pd.DataFrame(list(zip( list(file_content_assoc.keys()), decision, resume)), columns = [\"id_file\", \"decision\", \"resume\"])\n",
    "df_files"
   ]
  },
  {
   "cell_type": "code",
   "execution_count": 40,
   "id": "feb2653b",
   "metadata": {},
   "outputs": [],
   "source": [
    "nlp_fr = pipeline_fr(\"question-generation\")"
   ]
  },
  {
   "cell_type": "code",
   "execution_count": 44,
   "id": "ee6b2912",
   "metadata": {},
   "outputs": [
    {
     "name": "stdout",
     "output_type": "stream",
     "text": [
      "[{'answer': 'loyers', 'question': 'Les epoux sont tenus solidairement au paiement de quoi?'}]\n",
      "[{'documentID': 'JURITEXT000007040187.story', 'items': [{'context': \"les epoux demeurent cotitulaires du bail jusqu'a la transcription du jugement de divorce en marge des registres de l'etat civil et sont des lors tenus solidairement au paiement des loyers , nonobstant le fait que la separation des conjoints a ete autorisee par le juge et portee a la connaissance du bailleur\", 'questions': [{'question': 'Les epoux sont tenus solidairement au paiement de quoi?'}]}]}]\n",
      "[{'answer': '23 decembre 1986', 'question': \"quelle date la proposition d'un nouveau contrat a-t-elle été faite?\"}, {'answer': 'epoux colocataires', 'question': \"qui l'avis de réception a-t-il été signé?\"}]\n",
      "[{'documentID': 'JURITEXT000007040187.story', 'items': [{'context': \"les epoux demeurent cotitulaires du bail jusqu'a la transcription du jugement de divorce en marge des registres de l'etat civil et sont des lors tenus solidairement au paiement des loyers , nonobstant le fait que la separation des conjoints a ete autorisee par le juge et portee a la connaissance du bailleur\", 'questions': [{'question': 'Les epoux sont tenus solidairement au paiement de quoi?'}]}]}, {'documentID': 'JURITEXT000007040188.story', 'items': [{'context': \"la cour d'appel qui releve qu'une meme lettre recommandee avait ete adressee aux epoux colocataires et que l'avis de reception avait ete signe par chacun d'eux en deduit exactement que la notification de la proposition d'un nouveau contrat en application de l'article 1 de la loi du 23 decembre 1986 avait ete regulierement effectuee\", 'questions': [{'question': \"quelle date la proposition d'un nouveau contrat a-t-elle été faite?\"}, {'question': \"qui l'avis de réception a-t-il été signé?\"}]}]}]\n",
      "[{'answer': \"l'article l. 21 - 10 du code des assurances subordonne\", 'question': \"Quel article du code des assurances subordonne la transmission de l'assurance au transfert de la propriete?\"}]\n",
      "[{'answer': \"l'article l. 25 - 1\", 'question': \"Qu'est-ce que la cour d'appel a considéré comme susceptible d'ouvrir droit à la garantie?\"}]\n",
      "[{'documentID': 'JURITEXT000007040187.story', 'items': [{'context': \"les epoux demeurent cotitulaires du bail jusqu'a la transcription du jugement de divorce en marge des registres de l'etat civil et sont des lors tenus solidairement au paiement des loyers , nonobstant le fait que la separation des conjoints a ete autorisee par le juge et portee a la connaissance du bailleur\", 'questions': [{'question': 'Les epoux sont tenus solidairement au paiement de quoi?'}]}]}, {'documentID': 'JURITEXT000007040188.story', 'items': [{'context': \"la cour d'appel qui releve qu'une meme lettre recommandee avait ete adressee aux epoux colocataires et que l'avis de reception avait ete signe par chacun d'eux en deduit exactement que la notification de la proposition d'un nouveau contrat en application de l'article 1 de la loi du 23 decembre 1986 avait ete regulierement effectuee\", 'questions': [{'question': \"quelle date la proposition d'un nouveau contrat a-t-elle été faite?\"}, {'question': \"qui l'avis de réception a-t-il été signé?\"}]}]}, {'documentID': 'JURITEXT000007040210.story', 'items': [{'context': \"l'article l. 21 - 10 du code des assurances subordonne , en cas d'alienation de la chose assuree , la transmission de l'assurance au transfert de la propriete\", 'questions': [{'question': \"Quel article du code des assurances subordonne la transmission de l'assurance au transfert de la propriete?\"}]}, {'context': \"des lors la cour d'appel , ayant constate que le dommage , susceptible d'ouvrir droit a garantie au titre de l'article l. 25 - 1 du meme code , etait survenu anterieurement au transfert de propriete , en a deduit que la nouvelle proprietaire , ne pouvait pretendre au benefice de la garantie , meme si l'arrete interministeriel ayant constate l'etat de catastrophe naturelle a ete pris posterieurement\", 'questions': [{'question': \"Qu'est-ce que la cour d'appel a considéré comme susceptible d'ouvrir droit à la garantie?\"}]}]}]\n",
      "[{'answer': 'un mois', 'question': 'Combien de temps a-t-on imparti pour élever une contestation relative à la saisie?'}]\n",
      "[{'documentID': 'JURITEXT000007040187.story', 'items': [{'context': \"les epoux demeurent cotitulaires du bail jusqu'a la transcription du jugement de divorce en marge des registres de l'etat civil et sont des lors tenus solidairement au paiement des loyers , nonobstant le fait que la separation des conjoints a ete autorisee par le juge et portee a la connaissance du bailleur\", 'questions': [{'question': 'Les epoux sont tenus solidairement au paiement de quoi?'}]}]}, {'documentID': 'JURITEXT000007040188.story', 'items': [{'context': \"la cour d'appel qui releve qu'une meme lettre recommandee avait ete adressee aux epoux colocataires et que l'avis de reception avait ete signe par chacun d'eux en deduit exactement que la notification de la proposition d'un nouveau contrat en application de l'article 1 de la loi du 23 decembre 1986 avait ete regulierement effectuee\", 'questions': [{'question': \"quelle date la proposition d'un nouveau contrat a-t-elle été faite?\"}, {'question': \"qui l'avis de réception a-t-il été signé?\"}]}]}, {'documentID': 'JURITEXT000007040210.story', 'items': [{'context': \"l'article l. 21 - 10 du code des assurances subordonne , en cas d'alienation de la chose assuree , la transmission de l'assurance au transfert de la propriete\", 'questions': [{'question': \"Quel article du code des assurances subordonne la transmission de l'assurance au transfert de la propriete?\"}]}, {'context': \"des lors la cour d'appel , ayant constate que le dommage , susceptible d'ouvrir droit a garantie au titre de l'article l. 25 - 1 du meme code , etait survenu anterieurement au transfert de propriete , en a deduit que la nouvelle proprietaire , ne pouvait pretendre au benefice de la garantie , meme si l'arrete interministeriel ayant constate l'etat de catastrophe naturelle a ete pris posterieurement\", 'questions': [{'question': \"Qu'est-ce que la cour d'appel a considéré comme susceptible d'ouvrir droit à la garantie?\"}]}]}, {'documentID': 'JURITEXT000007040335.story', 'items': [{'context': \"le delai d'un mois imparti pour elever une contestation relative a la saisie - attribution ne court pas a l'encontre du tiers saisi ( arrets nos  et 2 )\", 'questions': [{'question': 'Combien de temps a-t-on imparti pour élever une contestation relative à la saisie?'}]}]}]\n",
      "Not able to generate question -- en error occured\n",
      "[{'answer': 'fusion des divers comptes ouverts au nom de son client', 'question': \"Qu'est-ce qu'une fusion de comptes ouverts au nom de son client?\"}, {'answer': 'renseignement', 'question': \"Qu'est-ce que la banque a l'obligation de remplir?\"}]\n",
      "[{'documentID': 'JURITEXT000007040187.story', 'items': [{'context': \"les epoux demeurent cotitulaires du bail jusqu'a la transcription du jugement de divorce en marge des registres de l'etat civil et sont des lors tenus solidairement au paiement des loyers , nonobstant le fait que la separation des conjoints a ete autorisee par le juge et portee a la connaissance du bailleur\", 'questions': [{'question': 'Les epoux sont tenus solidairement au paiement de quoi?'}]}]}, {'documentID': 'JURITEXT000007040188.story', 'items': [{'context': \"la cour d'appel qui releve qu'une meme lettre recommandee avait ete adressee aux epoux colocataires et que l'avis de reception avait ete signe par chacun d'eux en deduit exactement que la notification de la proposition d'un nouveau contrat en application de l'article 1 de la loi du 23 decembre 1986 avait ete regulierement effectuee\", 'questions': [{'question': \"quelle date la proposition d'un nouveau contrat a-t-elle été faite?\"}, {'question': \"qui l'avis de réception a-t-il été signé?\"}]}]}, {'documentID': 'JURITEXT000007040210.story', 'items': [{'context': \"l'article l. 21 - 10 du code des assurances subordonne , en cas d'alienation de la chose assuree , la transmission de l'assurance au transfert de la propriete\", 'questions': [{'question': \"Quel article du code des assurances subordonne la transmission de l'assurance au transfert de la propriete?\"}]}, {'context': \"des lors la cour d'appel , ayant constate que le dommage , susceptible d'ouvrir droit a garantie au titre de l'article l. 25 - 1 du meme code , etait survenu anterieurement au transfert de propriete , en a deduit que la nouvelle proprietaire , ne pouvait pretendre au benefice de la garantie , meme si l'arrete interministeriel ayant constate l'etat de catastrophe naturelle a ete pris posterieurement\", 'questions': [{'question': \"Qu'est-ce que la cour d'appel a considéré comme susceptible d'ouvrir droit à la garantie?\"}]}]}, {'documentID': 'JURITEXT000007040335.story', 'items': [{'context': \"le delai d'un mois imparti pour elever une contestation relative a la saisie - attribution ne court pas a l'encontre du tiers saisi ( arrets nos  et 2 )\", 'questions': [{'question': 'Combien de temps a-t-on imparti pour élever une contestation relative à la saisie?'}]}]}, {'documentID': 'JURITEXT000007040336.story', 'items': [{'context': \"ne constitue pas une contestation de la saisie au sens de l'article 66 du decret du 31 juillet 1992 la demande du creancier saisissant tendant a voir constater les manquements du tiers saisi a son obligation legale de renseignement\", 'questions': []}, {'context': \"satisfait a l'obligation de renseignement a laquelle elle est tenue la banque qui communique au creancier saisissant le solde unique resultant de l'application d'une stipulation d'unicite ou de fusion des divers comptes ouverts au nom de son client\", 'questions': [{'question': \"Qu'est-ce qu'une fusion de comptes ouverts au nom de son client?\"}, {'question': \"Qu'est-ce que la banque a l'obligation de remplir?\"}]}]}]\n"
     ]
    },
    {
     "name": "stdout",
     "output_type": "stream",
     "text": [
      "[{'answer': '15 septembre 1991', 'question': \"Quand la cour d'appel a-t-elle décidé que le conge d'un local a usage professionnel consenti pour 6\"}, {'answer': '6 mois', 'question': \"Combien de temps faut-il pour que le locataire d'un local ait l'intention de quitter les\"}]\n",
      "[{'documentID': 'JURITEXT000007040187.story', 'items': [{'context': \"les epoux demeurent cotitulaires du bail jusqu'a la transcription du jugement de divorce en marge des registres de l'etat civil et sont des lors tenus solidairement au paiement des loyers , nonobstant le fait que la separation des conjoints a ete autorisee par le juge et portee a la connaissance du bailleur\", 'questions': [{'question': 'Les epoux sont tenus solidairement au paiement de quoi?'}]}]}, {'documentID': 'JURITEXT000007040188.story', 'items': [{'context': \"la cour d'appel qui releve qu'une meme lettre recommandee avait ete adressee aux epoux colocataires et que l'avis de reception avait ete signe par chacun d'eux en deduit exactement que la notification de la proposition d'un nouveau contrat en application de l'article 1 de la loi du 23 decembre 1986 avait ete regulierement effectuee\", 'questions': [{'question': \"quelle date la proposition d'un nouveau contrat a-t-elle été faite?\"}, {'question': \"qui l'avis de réception a-t-il été signé?\"}]}]}, {'documentID': 'JURITEXT000007040210.story', 'items': [{'context': \"l'article l. 21 - 10 du code des assurances subordonne , en cas d'alienation de la chose assuree , la transmission de l'assurance au transfert de la propriete\", 'questions': [{'question': \"Quel article du code des assurances subordonne la transmission de l'assurance au transfert de la propriete?\"}]}, {'context': \"des lors la cour d'appel , ayant constate que le dommage , susceptible d'ouvrir droit a garantie au titre de l'article l. 25 - 1 du meme code , etait survenu anterieurement au transfert de propriete , en a deduit que la nouvelle proprietaire , ne pouvait pretendre au benefice de la garantie , meme si l'arrete interministeriel ayant constate l'etat de catastrophe naturelle a ete pris posterieurement\", 'questions': [{'question': \"Qu'est-ce que la cour d'appel a considéré comme susceptible d'ouvrir droit à la garantie?\"}]}]}, {'documentID': 'JURITEXT000007040335.story', 'items': [{'context': \"le delai d'un mois imparti pour elever une contestation relative a la saisie - attribution ne court pas a l'encontre du tiers saisi ( arrets nos  et 2 )\", 'questions': [{'question': 'Combien de temps a-t-on imparti pour élever une contestation relative à la saisie?'}]}]}, {'documentID': 'JURITEXT000007040336.story', 'items': [{'context': \"ne constitue pas une contestation de la saisie au sens de l'article 66 du decret du 31 juillet 1992 la demande du creancier saisissant tendant a voir constater les manquements du tiers saisi a son obligation legale de renseignement\", 'questions': []}, {'context': \"satisfait a l'obligation de renseignement a laquelle elle est tenue la banque qui communique au creancier saisissant le solde unique resultant de l'application d'une stipulation d'unicite ou de fusion des divers comptes ouverts au nom de son client\", 'questions': [{'question': \"Qu'est-ce qu'une fusion de comptes ouverts au nom de son client?\"}, {'question': \"Qu'est-ce que la banque a l'obligation de remplir?\"}]}]}, {'documentID': 'JURITEXT000007040350.story', 'items': [{'context': \"viole l'article 7-a de la loi du 23 decembre 1986 la cour d'appel qui decide que le conge d'un local a usage professionnel consenti pour 6 ans a compter du 15 septembre 1991 , delivre au bailleur le 14 mars 1994 pour le 15 septembre 1994 , doit etre reporte a l'echeance annuelle suivante prevue au contrat , alors que le locataire d'un local affecte a un usage exclusivement professionnel peut , a tout moment , notifier au bailleur son intention de quitter les lieux en respectant un preavis de 6 mois\", 'questions': [{'question': \"Quand la cour d'appel a-t-elle décidé que le conge d'un local a usage professionnel consenti pour 6\"}, {'question': \"Combien de temps faut-il pour que le locataire d'un local ait l'intention de quitter les\"}]}]}]\n",
      "[{'answer': '6 juillet 1989', 'question': 'Quand la loi a-t-elle été adoptée?'}]\n",
      "[{'documentID': 'JURITEXT000007040187.story', 'items': [{'context': \"les epoux demeurent cotitulaires du bail jusqu'a la transcription du jugement de divorce en marge des registres de l'etat civil et sont des lors tenus solidairement au paiement des loyers , nonobstant le fait que la separation des conjoints a ete autorisee par le juge et portee a la connaissance du bailleur\", 'questions': [{'question': 'Les epoux sont tenus solidairement au paiement de quoi?'}]}]}, {'documentID': 'JURITEXT000007040188.story', 'items': [{'context': \"la cour d'appel qui releve qu'une meme lettre recommandee avait ete adressee aux epoux colocataires et que l'avis de reception avait ete signe par chacun d'eux en deduit exactement que la notification de la proposition d'un nouveau contrat en application de l'article 1 de la loi du 23 decembre 1986 avait ete regulierement effectuee\", 'questions': [{'question': \"quelle date la proposition d'un nouveau contrat a-t-elle été faite?\"}, {'question': \"qui l'avis de réception a-t-il été signé?\"}]}]}, {'documentID': 'JURITEXT000007040210.story', 'items': [{'context': \"l'article l. 21 - 10 du code des assurances subordonne , en cas d'alienation de la chose assuree , la transmission de l'assurance au transfert de la propriete\", 'questions': [{'question': \"Quel article du code des assurances subordonne la transmission de l'assurance au transfert de la propriete?\"}]}, {'context': \"des lors la cour d'appel , ayant constate que le dommage , susceptible d'ouvrir droit a garantie au titre de l'article l. 25 - 1 du meme code , etait survenu anterieurement au transfert de propriete , en a deduit que la nouvelle proprietaire , ne pouvait pretendre au benefice de la garantie , meme si l'arrete interministeriel ayant constate l'etat de catastrophe naturelle a ete pris posterieurement\", 'questions': [{'question': \"Qu'est-ce que la cour d'appel a considéré comme susceptible d'ouvrir droit à la garantie?\"}]}]}, {'documentID': 'JURITEXT000007040335.story', 'items': [{'context': \"le delai d'un mois imparti pour elever une contestation relative a la saisie - attribution ne court pas a l'encontre du tiers saisi ( arrets nos  et 2 )\", 'questions': [{'question': 'Combien de temps a-t-on imparti pour élever une contestation relative à la saisie?'}]}]}, {'documentID': 'JURITEXT000007040336.story', 'items': [{'context': \"ne constitue pas une contestation de la saisie au sens de l'article 66 du decret du 31 juillet 1992 la demande du creancier saisissant tendant a voir constater les manquements du tiers saisi a son obligation legale de renseignement\", 'questions': []}, {'context': \"satisfait a l'obligation de renseignement a laquelle elle est tenue la banque qui communique au creancier saisissant le solde unique resultant de l'application d'une stipulation d'unicite ou de fusion des divers comptes ouverts au nom de son client\", 'questions': [{'question': \"Qu'est-ce qu'une fusion de comptes ouverts au nom de son client?\"}, {'question': \"Qu'est-ce que la banque a l'obligation de remplir?\"}]}]}, {'documentID': 'JURITEXT000007040350.story', 'items': [{'context': \"viole l'article 7-a de la loi du 23 decembre 1986 la cour d'appel qui decide que le conge d'un local a usage professionnel consenti pour 6 ans a compter du 15 septembre 1991 , delivre au bailleur le 14 mars 1994 pour le 15 septembre 1994 , doit etre reporte a l'echeance annuelle suivante prevue au contrat , alors que le locataire d'un local affecte a un usage exclusivement professionnel peut , a tout moment , notifier au bailleur son intention de quitter les lieux en respectant un preavis de 6 mois\", 'questions': [{'question': \"Quand la cour d'appel a-t-elle décidé que le conge d'un local a usage professionnel consenti pour 6\"}, {'question': \"Combien de temps faut-il pour que le locataire d'un local ait l'intention de quitter les\"}]}]}, {'documentID': 'JURITEXT000007040351.story', 'items': [{'context': \"l'article 5-i de la loi du 6 juillet 1989 n'impose pas de preciser le lien de parente existant entre le bailleur et le beneficiaire\", 'questions': [{'question': 'Quand la loi a-t-elle été adoptée?'}]}]}]\n"
     ]
    },
    {
     "name": "stdout",
     "output_type": "stream",
     "text": [
      "[{'answer': 'ne tire pas les consequences legales de ses constatations', 'question': \"Qu'est-ce que la cour d'appel a déclaré que les desordres de coulure ne sont pas ines\"}]\n",
      "[{'documentID': 'JURITEXT000007040187.story', 'items': [{'context': \"les epoux demeurent cotitulaires du bail jusqu'a la transcription du jugement de divorce en marge des registres de l'etat civil et sont des lors tenus solidairement au paiement des loyers , nonobstant le fait que la separation des conjoints a ete autorisee par le juge et portee a la connaissance du bailleur\", 'questions': [{'question': 'Les epoux sont tenus solidairement au paiement de quoi?'}]}]}, {'documentID': 'JURITEXT000007040188.story', 'items': [{'context': \"la cour d'appel qui releve qu'une meme lettre recommandee avait ete adressee aux epoux colocataires et que l'avis de reception avait ete signe par chacun d'eux en deduit exactement que la notification de la proposition d'un nouveau contrat en application de l'article 1 de la loi du 23 decembre 1986 avait ete regulierement effectuee\", 'questions': [{'question': \"quelle date la proposition d'un nouveau contrat a-t-elle été faite?\"}, {'question': \"qui l'avis de réception a-t-il été signé?\"}]}]}, {'documentID': 'JURITEXT000007040210.story', 'items': [{'context': \"l'article l. 21 - 10 du code des assurances subordonne , en cas d'alienation de la chose assuree , la transmission de l'assurance au transfert de la propriete\", 'questions': [{'question': \"Quel article du code des assurances subordonne la transmission de l'assurance au transfert de la propriete?\"}]}, {'context': \"des lors la cour d'appel , ayant constate que le dommage , susceptible d'ouvrir droit a garantie au titre de l'article l. 25 - 1 du meme code , etait survenu anterieurement au transfert de propriete , en a deduit que la nouvelle proprietaire , ne pouvait pretendre au benefice de la garantie , meme si l'arrete interministeriel ayant constate l'etat de catastrophe naturelle a ete pris posterieurement\", 'questions': [{'question': \"Qu'est-ce que la cour d'appel a considéré comme susceptible d'ouvrir droit à la garantie?\"}]}]}, {'documentID': 'JURITEXT000007040335.story', 'items': [{'context': \"le delai d'un mois imparti pour elever une contestation relative a la saisie - attribution ne court pas a l'encontre du tiers saisi ( arrets nos  et 2 )\", 'questions': [{'question': 'Combien de temps a-t-on imparti pour élever une contestation relative à la saisie?'}]}]}, {'documentID': 'JURITEXT000007040336.story', 'items': [{'context': \"ne constitue pas une contestation de la saisie au sens de l'article 66 du decret du 31 juillet 1992 la demande du creancier saisissant tendant a voir constater les manquements du tiers saisi a son obligation legale de renseignement\", 'questions': []}, {'context': \"satisfait a l'obligation de renseignement a laquelle elle est tenue la banque qui communique au creancier saisissant le solde unique resultant de l'application d'une stipulation d'unicite ou de fusion des divers comptes ouverts au nom de son client\", 'questions': [{'question': \"Qu'est-ce qu'une fusion de comptes ouverts au nom de son client?\"}, {'question': \"Qu'est-ce que la banque a l'obligation de remplir?\"}]}]}, {'documentID': 'JURITEXT000007040350.story', 'items': [{'context': \"viole l'article 7-a de la loi du 23 decembre 1986 la cour d'appel qui decide que le conge d'un local a usage professionnel consenti pour 6 ans a compter du 15 septembre 1991 , delivre au bailleur le 14 mars 1994 pour le 15 septembre 1994 , doit etre reporte a l'echeance annuelle suivante prevue au contrat , alors que le locataire d'un local affecte a un usage exclusivement professionnel peut , a tout moment , notifier au bailleur son intention de quitter les lieux en respectant un preavis de 6 mois\", 'questions': [{'question': \"Quand la cour d'appel a-t-elle décidé que le conge d'un local a usage professionnel consenti pour 6\"}, {'question': \"Combien de temps faut-il pour que le locataire d'un local ait l'intention de quitter les\"}]}]}, {'documentID': 'JURITEXT000007040351.story', 'items': [{'context': \"l'article 5-i de la loi du 6 juillet 1989 n'impose pas de preciser le lien de parente existant entre le bailleur et le beneficiaire\", 'questions': [{'question': 'Quand la loi a-t-elle été adoptée?'}]}]}, {'documentID': 'JURITEXT000007040352.story', 'items': [{'context': \"ne tire pas les consequences legales de ses constatations la cour d'appel qui declare que les desordres de coulure ne sont qu'inesthetiques et n'atteignent pas la solidite de l'ouvrage , ni ne le rendent impropre a sa destination , la fonction d'etancheite n'etant pas atteinte , et que des lors , ils entrent dans le regime de la garantie legale de bon fonctionnement de l'article 792 - 3 du code civil dont le delai est en l'espece expire , tout en constatant que les travaux avaient consiste en un ravalement avec une impermeabilisation des facades et pignons , un traitement des fissures non stabilisees , que les desordres affectaient le revetement de protection et que le syndicat invoquait la faute et la responsabilite contractuelle de droit commun de l'entreprise\", 'questions': [{'question': \"Qu'est-ce que la cour d'appel a déclaré que les desordres de coulure ne sont pas ines\"}]}]}]\n",
      "Not able to generate question -- en error occured\n",
      "[{'documentID': 'JURITEXT000007040187.story', 'items': [{'context': \"les epoux demeurent cotitulaires du bail jusqu'a la transcription du jugement de divorce en marge des registres de l'etat civil et sont des lors tenus solidairement au paiement des loyers , nonobstant le fait que la separation des conjoints a ete autorisee par le juge et portee a la connaissance du bailleur\", 'questions': [{'question': 'Les epoux sont tenus solidairement au paiement de quoi?'}]}]}, {'documentID': 'JURITEXT000007040188.story', 'items': [{'context': \"la cour d'appel qui releve qu'une meme lettre recommandee avait ete adressee aux epoux colocataires et que l'avis de reception avait ete signe par chacun d'eux en deduit exactement que la notification de la proposition d'un nouveau contrat en application de l'article 1 de la loi du 23 decembre 1986 avait ete regulierement effectuee\", 'questions': [{'question': \"quelle date la proposition d'un nouveau contrat a-t-elle été faite?\"}, {'question': \"qui l'avis de réception a-t-il été signé?\"}]}]}, {'documentID': 'JURITEXT000007040210.story', 'items': [{'context': \"l'article l. 21 - 10 du code des assurances subordonne , en cas d'alienation de la chose assuree , la transmission de l'assurance au transfert de la propriete\", 'questions': [{'question': \"Quel article du code des assurances subordonne la transmission de l'assurance au transfert de la propriete?\"}]}, {'context': \"des lors la cour d'appel , ayant constate que le dommage , susceptible d'ouvrir droit a garantie au titre de l'article l. 25 - 1 du meme code , etait survenu anterieurement au transfert de propriete , en a deduit que la nouvelle proprietaire , ne pouvait pretendre au benefice de la garantie , meme si l'arrete interministeriel ayant constate l'etat de catastrophe naturelle a ete pris posterieurement\", 'questions': [{'question': \"Qu'est-ce que la cour d'appel a considéré comme susceptible d'ouvrir droit à la garantie?\"}]}]}, {'documentID': 'JURITEXT000007040335.story', 'items': [{'context': \"le delai d'un mois imparti pour elever une contestation relative a la saisie - attribution ne court pas a l'encontre du tiers saisi ( arrets nos  et 2 )\", 'questions': [{'question': 'Combien de temps a-t-on imparti pour élever une contestation relative à la saisie?'}]}]}, {'documentID': 'JURITEXT000007040336.story', 'items': [{'context': \"ne constitue pas une contestation de la saisie au sens de l'article 66 du decret du 31 juillet 1992 la demande du creancier saisissant tendant a voir constater les manquements du tiers saisi a son obligation legale de renseignement\", 'questions': []}, {'context': \"satisfait a l'obligation de renseignement a laquelle elle est tenue la banque qui communique au creancier saisissant le solde unique resultant de l'application d'une stipulation d'unicite ou de fusion des divers comptes ouverts au nom de son client\", 'questions': [{'question': \"Qu'est-ce qu'une fusion de comptes ouverts au nom de son client?\"}, {'question': \"Qu'est-ce que la banque a l'obligation de remplir?\"}]}]}, {'documentID': 'JURITEXT000007040350.story', 'items': [{'context': \"viole l'article 7-a de la loi du 23 decembre 1986 la cour d'appel qui decide que le conge d'un local a usage professionnel consenti pour 6 ans a compter du 15 septembre 1991 , delivre au bailleur le 14 mars 1994 pour le 15 septembre 1994 , doit etre reporte a l'echeance annuelle suivante prevue au contrat , alors que le locataire d'un local affecte a un usage exclusivement professionnel peut , a tout moment , notifier au bailleur son intention de quitter les lieux en respectant un preavis de 6 mois\", 'questions': [{'question': \"Quand la cour d'appel a-t-elle décidé que le conge d'un local a usage professionnel consenti pour 6\"}, {'question': \"Combien de temps faut-il pour que le locataire d'un local ait l'intention de quitter les\"}]}]}, {'documentID': 'JURITEXT000007040351.story', 'items': [{'context': \"l'article 5-i de la loi du 6 juillet 1989 n'impose pas de preciser le lien de parente existant entre le bailleur et le beneficiaire\", 'questions': [{'question': 'Quand la loi a-t-elle été adoptée?'}]}]}, {'documentID': 'JURITEXT000007040352.story', 'items': [{'context': \"ne tire pas les consequences legales de ses constatations la cour d'appel qui declare que les desordres de coulure ne sont qu'inesthetiques et n'atteignent pas la solidite de l'ouvrage , ni ne le rendent impropre a sa destination , la fonction d'etancheite n'etant pas atteinte , et que des lors , ils entrent dans le regime de la garantie legale de bon fonctionnement de l'article 792 - 3 du code civil dont le delai est en l'espece expire , tout en constatant que les travaux avaient consiste en un ravalement avec une impermeabilisation des facades et pignons , un traitement des fissures non stabilisees , que les desordres affectaient le revetement de protection et que le syndicat invoquait la faute et la responsabilite contractuelle de droit commun de l'entreprise\", 'questions': [{'question': \"Qu'est-ce que la cour d'appel a déclaré que les desordres de coulure ne sont pas ines\"}]}]}, {'documentID': 'JURITEXT000007040353.story', 'items': [{'context': \"ayant releve que les travaux avaient fait l'objet d'une reception sans reserves , et que posterieurement a celle-ci aucune contestation n'avait ete formulee , le maitre de l'ouvrage ne demontrant pas avoir forme aupres de l'architecte ou de l'entrepreneur des reclamations precises afin de remedier a des desordres determines , l'arret retient exactement que l'architecte pouvait liberer les garanties prevues par la loi n 1 - 584 du 16 juillet 1971 avant l'expiration du delai d'un an courant de la reception sans reserves\", 'questions': []}]}]\n"
     ]
    },
    {
     "name": "stderr",
     "output_type": "stream",
     "text": [
      "IOPub data rate exceeded.\n",
      "The notebook server will temporarily stop sending output\n",
      "to the client in order to avoid crashing it.\n",
      "To change this limit, set the config variable\n",
      "`--NotebookApp.iopub_data_rate_limit`.\n",
      "\n",
      "Current values:\n",
      "NotebookApp.iopub_data_rate_limit=1000000.0 (bytes/sec)\n",
      "NotebookApp.rate_limit_window=3.0 (secs)\n",
      "\n"
     ]
    }
   ],
   "source": [
    "vector = []\n",
    "data_context_questions = {}\n",
    "for ind in df_files.index:\n",
    "    data_context_questions = {'documentID':'', 'items':[]}\n",
    "    data_context_questions['documentID'] = df_files['id_file'][ind]\n",
    "    \n",
    "    # set ind = 16256 to generate questions for all files\n",
    "    if(ind < 50):\n",
    "        sentences = df_files['resume'][ind]\n",
    "        sent = re.split(';| \\.', sentences)\n",
    "        sent.remove(' ')\n",
    "        item_sent_questions = {}\n",
    "        for s in sent:\n",
    "            item_sent_questions = {}\n",
    "            \n",
    "            # sometimes some sentense starts with a digit like: \"1l'arret\"\n",
    "            # I eliminated the digit cause it makes the entire word unrecognizable\n",
    "            s = re.sub(r\"\\d\", \"\", s, 1)\n",
    "            item_sent_questions = {\"context\": s, \"questions\":[]}\n",
    "            try:\n",
    "                qs = nlp_fr(s)\n",
    "                for q in qs:\n",
    "                    dict_q = {\"question\": q['question']}\n",
    "                    item_sent_questions[\"questions\"].append(dict_q)\n",
    "            except:\n",
    "                print(\"Not able to generate question -- en error occured\")\n",
    "            data_context_questions[\"items\"].append(item_sent_questions)\n",
    "        vector.append(data_context_questions)    \n",
    "                "
   ]
  },
  {
   "cell_type": "code",
   "execution_count": 46,
   "id": "40075c28",
   "metadata": {},
   "outputs": [
    {
     "name": "stdout",
     "output_type": "stream",
     "text": [
      "[{\"documentID\": \"JURITEXT000007040187.story\", \"items\": [{\"context\": \"les epoux demeurent cotitulaires du bail jusqu'a la transcription du jugement de divorce en marge des registres de l'etat civil et sont des lors tenus solidairement au paiement des loyers , nonobstant le fait que la separation des conjoints a ete autorisee par le juge et portee a la connaissance du bailleur\", \"questions\": [{\"question\": \"Les epoux sont tenus solidairement au paiement de quoi?\"}]}]}, {\"documentID\": \"JURITEXT000007040188.story\", \"items\": [{\"context\": \"la cour d'appel qui releve qu'une meme lettre recommandee avait ete adressee aux epoux colocataires et que l'avis de reception avait ete signe par chacun d'eux en deduit exactement que la notification de la proposition d'un nouveau contrat en application de l'article 1 de la loi du 23 decembre 1986 avait ete regulierement effectuee\", \"questions\": [{\"question\": \"quelle date la proposition d'un nouveau contrat a-t-elle \\u00e9t\\u00e9 faite?\"}, {\"question\": \"qui l'avis de r\\u00e9ception a-t-il \\u00e9t\\u00e9 sign\\u00e9?\"}]}]}, {\"documentID\": \"JURITEXT000007040210.story\", \"items\": [{\"context\": \"l'article l. 21 - 10 du code des assurances subordonne , en cas d'alienation de la chose assuree , la transmission de l'assurance au transfert de la propriete\", \"questions\": [{\"question\": \"Quel article du code des assurances subordonne la transmission de l'assurance au transfert de la propriete?\"}]}, {\"context\": \"des lors la cour d'appel , ayant constate que le dommage , susceptible d'ouvrir droit a garantie au titre de l'article l. 25 - 1 du meme code , etait survenu anterieurement au transfert de propriete , en a deduit que la nouvelle proprietaire , ne pouvait pretendre au benefice de la garantie , meme si l'arrete interministeriel ayant constate l'etat de catastrophe naturelle a ete pris posterieurement\", \"questions\": [{\"question\": \"Qu'est-ce que la cour d'appel a consid\\u00e9r\\u00e9 comme susceptible d'ouvrir droit \\u00e0 la garantie?\"}]}]}, {\"documentID\": \"JURITEXT000007040335.story\", \"items\": [{\"context\": \"le delai d'un mois imparti pour elever une contestation relative a la saisie - attribution ne court pas a l'encontre du tiers saisi ( arrets nos  et 2 )\", \"questions\": [{\"question\": \"Combien de temps a-t-on imparti pour \\u00e9lever une contestation relative \\u00e0 la saisie?\"}]}]}, {\"documentID\": \"JURITEXT000007040336.story\", \"items\": [{\"context\": \"ne constitue pas une contestation de la saisie au sens de l'article 66 du decret du 31 juillet 1992 la demande du creancier saisissant tendant a voir constater les manquements du tiers saisi a son obligation legale de renseignement\", \"questions\": []}, {\"context\": \"satisfait a l'obligation de renseignement a laquelle elle est tenue la banque qui communique au creancier saisissant le solde unique resultant de l'application d'une stipulation d'unicite ou de fusion des divers comptes ouverts au nom de son client\", \"questions\": [{\"question\": \"Qu'est-ce qu'une fusion de comptes ouverts au nom de son client?\"}, {\"question\": \"Qu'est-ce que la banque a l'obligation de remplir?\"}]}]}, {\"documentID\": \"JURITEXT000007040350.story\", \"items\": [{\"context\": \"viole l'article 7-a de la loi du 23 decembre 1986 la cour d'appel qui decide que le conge d'un local a usage professionnel consenti pour 6 ans a compter du 15 septembre 1991 , delivre au bailleur le 14 mars 1994 pour le 15 septembre 1994 , doit etre reporte a l'echeance annuelle suivante prevue au contrat , alors que le locataire d'un local affecte a un usage exclusivement professionnel peut , a tout moment , notifier au bailleur son intention de quitter les lieux en respectant un preavis de 6 mois\", \"questions\": [{\"question\": \"Quand la cour d'appel a-t-elle d\\u00e9cid\\u00e9 que le conge d'un local a usage professionnel consenti pour 6\"}, {\"question\": \"Combien de temps faut-il pour que le locataire d'un local ait l'intention de quitter les\"}]}]}, {\"documentID\": \"JURITEXT000007040351.story\", \"items\": [{\"context\": \"l'article 5-i de la loi du 6 juillet 1989 n'impose pas de preciser le lien de parente existant entre le bailleur et le beneficiaire\", \"questions\": [{\"question\": \"Quand la loi a-t-elle \\u00e9t\\u00e9 adopt\\u00e9e?\"}]}]}, {\"documentID\": \"JURITEXT000007040352.story\", \"items\": [{\"context\": \"ne tire pas les consequences legales de ses constatations la cour d'appel qui declare que les desordres de coulure ne sont qu'inesthetiques et n'atteignent pas la solidite de l'ouvrage , ni ne le rendent impropre a sa destination , la fonction d'etancheite n'etant pas atteinte , et que des lors , ils entrent dans le regime de la garantie legale de bon fonctionnement de l'article 792 - 3 du code civil dont le delai est en l'espece expire , tout en constatant que les travaux avaient consiste en un ravalement avec une impermeabilisation des facades et pignons , un traitement des fissures non stabilisees , que les desordres affectaient le revetement de protection et que le syndicat invoquait la faute et la responsabilite contractuelle de droit commun de l'entreprise\", \"questions\": [{\"question\": \"Qu'est-ce que la cour d'appel a d\\u00e9clar\\u00e9 que les desordres de coulure ne sont pas ines\"}]}]}, {\"documentID\": \"JURITEXT000007040353.story\", \"items\": [{\"context\": \"ayant releve que les travaux avaient fait l'objet d'une reception sans reserves , et que posterieurement a celle-ci aucune contestation n'avait ete formulee , le maitre de l'ouvrage ne demontrant pas avoir forme aupres de l'architecte ou de l'entrepreneur des reclamations precises afin de remedier a des desordres determines , l'arret retient exactement que l'architecte pouvait liberer les garanties prevues par la loi n 1 - 584 du 16 juillet 1971 avant l'expiration du delai d'un an courant de la reception sans reserves\", \"questions\": []}]}, {\"documentID\": \"JURITEXT000007040354.story\", \"items\": [{\"context\": \"l'assemblee generale des coproprietaires ne s'etant pas opposee a la demande d'installation d'une antenne de reception de television par satellite formee par un locataire d'un appartement dans un immeuble en copropriete , soumettant seulement la realisation du projet a certaines conditions destinees a garantir l'integrite de l'immeuble , une cour d'appel en deduit exactement que le syndicat des coproprietaires n'etait pas tenu de saisir le tribunal d'instance dans le delai prevu par l'article  du decret du 22 decembre 1967\", \"questions\": [{\"question\": \"Qu'est-ce qui a emp\\u00each\\u00e9 le syndicat des coproprietaires de saisir le tribunal d'instance \"}]}]}]\n"
     ]
    }
   ],
   "source": [
    "import json \n",
    "# Serializing json  \n",
    "json_object = json.dumps(vector) \n",
    "print(json_object)"
   ]
  },
  {
   "cell_type": "markdown",
   "id": "afcdc5ed",
   "metadata": {},
   "source": [
    "Save the json object in a file"
   ]
  },
  {
   "cell_type": "code",
   "execution_count": 50,
   "id": "4fbd0ae8",
   "metadata": {},
   "outputs": [],
   "source": [
    "with open(\"sample.json\", \"w\", encoding='utf8') as outfile:\n",
    "    json.dump(vector, outfile, ensure_ascii=False, indent = 4)"
   ]
  },
  {
   "cell_type": "code",
   "execution_count": null,
   "id": "37ccef37",
   "metadata": {},
   "outputs": [],
   "source": []
  }
 ],
 "metadata": {
  "kernelspec": {
   "display_name": "Python 3 (ipykernel)",
   "language": "python",
   "name": "python3"
  },
  "language_info": {
   "codemirror_mode": {
    "name": "ipython",
    "version": 3
   },
   "file_extension": ".py",
   "mimetype": "text/x-python",
   "name": "python",
   "nbconvert_exporter": "python",
   "pygments_lexer": "ipython3",
   "version": "3.8.10"
  }
 },
 "nbformat": 4,
 "nbformat_minor": 5
}
