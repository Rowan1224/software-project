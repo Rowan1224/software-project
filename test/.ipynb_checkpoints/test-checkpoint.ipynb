{
 "cells": [
  {
   "cell_type": "code",
   "execution_count": 1,
   "id": "6ea3d081",
   "metadata": {},
   "outputs": [],
   "source": [
    "from transformers import T5ForConditionalGeneration, T5Tokenizer\n",
    "model = T5ForConditionalGeneration.from_pretrained(\"JDBN/t5-base-fr-qg-fquad\").to('cuda')\n",
    "tokenizer = T5Tokenizer.from_pretrained(\"JDBN/t5-base-fr-qg-fquad\")"
   ]
  },
  {
   "cell_type": "code",
   "execution_count": 1,
   "id": "5140ba5c",
   "metadata": {},
   "outputs": [],
   "source": [
    "import pandas as pd\n",
    "from nltk import sent_tokenize\n",
    "import re"
   ]
  },
  {
   "cell_type": "code",
   "execution_count": 3,
   "id": "bd8deb3d",
   "metadata": {},
   "outputs": [],
   "source": [
    "data = pd.read_csv('civil-data.csv')\n",
    "contexts = data['resume'].tolist()"
   ]
  },
  {
   "cell_type": "code",
   "execution_count": 2,
   "id": "3d737b76",
   "metadata": {},
   "outputs": [],
   "source": [
    "def clean_input(inp):\n",
    "    inp = inp.replace('generate question: ','')\n",
    "    inp = inp.replace(' <hl> ','')\n",
    "    \n",
    "    return inp.replace('</s>','')"
   ]
  },
  {
   "cell_type": "code",
   "execution_count": 5,
   "id": "1e2cbd30",
   "metadata": {},
   "outputs": [],
   "source": [
    "def get_inputs(context, sent):\n",
    "    #add segmentation\n",
    "#     print(context)\n",
    "#     print(sent)\n",
    "    try: \n",
    "        st,end = re.search(sent.strip(),context).span()\n",
    "\n",
    "        return f'generate question: {context[:st]} <hl> {context[st:end]} <hl> {context[end:]}</s>'\n",
    "    except:\n",
    "#         print(context)\n",
    "#         print(sent)\n",
    "        return None\n",
    "\n",
    "\n",
    "def generate(inputs, model, tokenizer):\n",
    "    \n",
    "    \n",
    "#     inputs = get_inputs(context)\n",
    "    \n",
    "    tokenized_input = tokenizer.batch_encode_plus(inputs,\n",
    "            max_length=512,\n",
    "            add_special_tokens=True,\n",
    "            truncation=True,\n",
    "            padding=\"max_length\",\n",
    "            pad_to_max_length=True,\n",
    "            return_tensors=\"pt\")\n",
    "    \n",
    "    \n",
    "    outputs = model.generate(input_ids=tokenized_input['input_ids'].to('cuda'),\n",
    "            attention_mask=tokenized_input['attention_mask'].to('cuda'),\n",
    "            max_length=128,\n",
    "            num_beams=4,\n",
    "        )\n",
    "    \n",
    "    questions = [tokenizer.decode(out, skip_special_tokens=True) for out in outputs]\n",
    "\n",
    "    return questions\n"
   ]
  },
  {
   "cell_type": "code",
   "execution_count": 8,
   "id": "0e193dd0",
   "metadata": {},
   "outputs": [
    {
     "name": "stderr",
     "output_type": "stream",
     "text": [
      "100%|████████████████████████████████████| 16256/16256 [00:48<00:00, 335.16it/s]\n"
     ]
    }
   ],
   "source": [
    "from tqdm import tqdm\n",
    "inputs = []\n",
    "for ind in tqdm(data.index):\n",
    "    \n",
    "    data_context_questions = {}\n",
    "    did = data['id_file'][ind]\n",
    "    \n",
    "    sentences = data['resume'][ind]\n",
    "    sent = re.split(';| \\.', sentences)\n",
    "    if \" \" in sent:\n",
    "        sent.remove(' ')\n",
    "    sent = [re.sub(r\"\\d\", \"\", s, 1) for s in sent]\n",
    "\n",
    "    sentences = \" \".join(sent)\n",
    "    sentences = sentences.strip()\n",
    "    \n",
    "    for s in sent:\n",
    "        inp = get_inputs(sentences, s)\n",
    "        if inp is not None:\n",
    "            inputs.append([inp,did])\n",
    "\n",
    "        \n",
    "    "
   ]
  },
  {
   "cell_type": "code",
   "execution_count": 9,
   "id": "b445c934",
   "metadata": {},
   "outputs": [],
   "source": [
    "from datasets import Dataset\n",
    "\n",
    "data_dict = {\"id\": [id for inp, id in inputs],\"inputs\": [inp for inp, id in inputs]}\n",
    "dataset = Dataset.from_dict(data_dict)"
   ]
  },
  {
   "cell_type": "code",
   "execution_count": 10,
   "id": "c05b3195",
   "metadata": {},
   "outputs": [
    {
     "data": {
      "text/plain": [
       "Dataset({\n",
       "    features: ['id', 'inputs'],\n",
       "    num_rows: 23691\n",
       "})"
      ]
     },
     "execution_count": 10,
     "metadata": {},
     "output_type": "execute_result"
    }
   ],
   "source": [
    "dataset"
   ]
  },
  {
   "cell_type": "code",
   "execution_count": 11,
   "id": "d49200bc",
   "metadata": {},
   "outputs": [
    {
     "name": "stderr",
     "output_type": "stream",
     "text": [
      "  0%|                                                  | 0/2962 [00:00<?, ?it/s]/home/hossain/.local/lib/python3.10/site-packages/transformers/models/t5/tokenization_t5.py:219: UserWarning: This sequence already has </s>. In future versions this behavior may lead to duplicated eos tokens being added.\n",
      "  warnings.warn(\n",
      "100%|█████████████████████████████████████| 2962/2962 [5:28:10<00:00,  6.65s/it]\n"
     ]
    }
   ],
   "source": [
    "import torch \n",
    "\n",
    "dataloaders =  torch.utils.data.DataLoader(dataset, batch_size=8)\n",
    "\n",
    "final =[]\n",
    "for batch in tqdm(dataloaders):\n",
    "    questions = generate(batch['inputs'], model,tokenizer)\n",
    "    for i,c,q in zip(batch['id'], batch['inputs'],questions):\n",
    "        final.append((i,c,q))\n",
    "   "
   ]
  },
  {
   "cell_type": "code",
   "execution_count": 12,
   "id": "2ab58eec",
   "metadata": {},
   "outputs": [
    {
     "data": {
      "text/plain": [
       "[\"Qu'est-ce qui a entraîné la cassation de l'arret?\",\n",
       " \"Qu'est-ce que la loi du mars 2010 modifiant l'article 257 du code général des impots a assujetti à la tva des opérations qui n'y etaient pas anterieures?\",\n",
       " \"Pourquoi une cour d'appel peut-elle prononcer le divorce des époux?\"]"
      ]
     },
     "execution_count": 12,
     "metadata": {},
     "output_type": "execute_result"
    }
   ],
   "source": [
    "questions"
   ]
  },
  {
   "cell_type": "code",
   "execution_count": 17,
   "id": "2662f753",
   "metadata": {},
   "outputs": [],
   "source": [
    "df = pd.DataFrame(final,columns=['ID','Context','Question'])"
   ]
  },
  {
   "cell_type": "code",
   "execution_count": 19,
   "id": "3cc7d2d9",
   "metadata": {},
   "outputs": [],
   "source": [
    "df.to_csv('questions.csv',index=False)"
   ]
  },
  {
   "cell_type": "code",
   "execution_count": 9,
   "id": "3829e5e9",
   "metadata": {},
   "outputs": [],
   "source": [
    "df = pd.read_csv('questions.csv')\n",
    "df['Context'] = df['Context'].apply(lambda x: clean_input(x))"
   ]
  },
  {
   "cell_type": "code",
   "execution_count": 29,
   "id": "97a3a81a",
   "metadata": {},
   "outputs": [],
   "source": [
    "groups = df.groupby(['ID','Context'])\n",
    "groups = {key[0]:{'context':key[1], 'questions': val['Question'].values.tolist()} for key,val in groups}"
   ]
  },
  {
   "cell_type": "code",
   "execution_count": 32,
   "id": "0a1c6437",
   "metadata": {},
   "outputs": [],
   "source": [
    "import json\n",
    "\n",
    "with open('generated-questions.json','w') as file:\n",
    "    json.dump(groups,file)"
   ]
  }
 ],
 "metadata": {
  "kernelspec": {
   "display_name": "Python 3 (ipykernel)",
   "language": "python",
   "name": "python3"
  },
  "language_info": {
   "codemirror_mode": {
    "name": "ipython",
    "version": 3
   },
   "file_extension": ".py",
   "mimetype": "text/x-python",
   "name": "python",
   "nbconvert_exporter": "python",
   "pygments_lexer": "ipython3",
   "version": "3.9.7"
  }
 },
 "nbformat": 4,
 "nbformat_minor": 5
}
