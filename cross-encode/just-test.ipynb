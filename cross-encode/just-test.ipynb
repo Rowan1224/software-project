{
 "cells": [
  {
   "cell_type": "code",
   "execution_count": 3,
   "id": "fdf61be6",
   "metadata": {},
   "outputs": [
    {
     "name": "stdout",
     "output_type": "stream",
     "text": [
      "\n",
      "  👋 \u001b[1mWelcome to Streamlit!\u001b[0m\n",
      "\n",
      "  If you're one of our development partners or you're interested in getting\n",
      "  personal technical support or Streamlit updates, please enter your email\n",
      "  address below. Otherwise, you may leave the field blank.\n",
      "\n",
      "  \u001b[34mEmail: \u001b[0m ^C\n",
      "2023-01-18 20:44:01.799 \n"
     ]
    }
   ],
   "source": [
    "!streamlit run dense_retrieval_pipeline-2.py"
   ]
  },
  {
   "cell_type": "code",
   "execution_count": null,
   "id": "85de892f",
   "metadata": {},
   "outputs": [],
   "source": [
    "!streamlit activate None"
   ]
  },
  {
   "cell_type": "code",
   "execution_count": 1,
   "id": "b4ed3828",
   "metadata": {},
   "outputs": [
    {
     "name": "stdout",
     "output_type": "stream",
     "text": [
      "\u001b[33mDEPRECATION: Configuring installation scheme with distutils config files is deprecated and will no longer work in the near future. If you are using a Homebrew or Linuxbrew Python, please see discussion at https://github.com/Homebrew/homebrew-core/issues/76621\u001b[0m\u001b[33m\n",
      "\u001b[0mCollecting watchdog\n",
      "  Downloading watchdog-2.2.1-cp39-cp39-macosx_10_9_x86_64.whl (88 kB)\n",
      "\u001b[2K     \u001b[90m━━━━━━━━━━━━━━━━━━━━━━━━━━━━━━━━━━━━━━━━\u001b[0m \u001b[32m88.1/88.1 kB\u001b[0m \u001b[31m4.6 MB/s\u001b[0m eta \u001b[36m0:00:00\u001b[0m\n",
      "\u001b[?25hInstalling collected packages: watchdog\n",
      "\u001b[33m  DEPRECATION: Configuring installation scheme with distutils config files is deprecated and will no longer work in the near future. If you are using a Homebrew or Linuxbrew Python, please see discussion at https://github.com/Homebrew/homebrew-core/issues/76621\u001b[0m\u001b[33m\n",
      "\u001b[0m\u001b[33mDEPRECATION: Configuring installation scheme with distutils config files is deprecated and will no longer work in the near future. If you are using a Homebrew or Linuxbrew Python, please see discussion at https://github.com/Homebrew/homebrew-core/issues/76621\u001b[0m\u001b[33m\n",
      "\u001b[0mSuccessfully installed watchdog-2.2.1\n"
     ]
    }
   ],
   "source": [
    "# !pip install watchdog"
   ]
  },
  {
   "cell_type": "code",
   "execution_count": null,
   "id": "2e603ca7",
   "metadata": {},
   "outputs": [],
   "source": []
  }
 ],
 "metadata": {
  "kernelspec": {
   "display_name": "Python 3 (ipykernel)",
   "language": "python",
   "name": "python3"
  },
  "language_info": {
   "codemirror_mode": {
    "name": "ipython",
    "version": 3
   },
   "file_extension": ".py",
   "mimetype": "text/x-python",
   "name": "python",
   "nbconvert_exporter": "python",
   "pygments_lexer": "ipython3",
   "version": "3.9.7"
  }
 },
 "nbformat": 4,
 "nbformat_minor": 5
}
